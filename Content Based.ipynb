{
 "cells": [
  {
   "cell_type": "code",
   "execution_count": 1,
   "id": "e87a7e1d",
   "metadata": {},
   "outputs": [],
   "source": [
    "import numpy as np\n",
    "import pandas as pd\n",
    "import matplotlib.pyplot as plt\n",
    "import seaborn as sns\n",
    "sns.set_style('whitegrid')\n",
    "%matplotlib inline"
   ]
  },
  {
   "cell_type": "code",
   "execution_count": 2,
   "id": "52920b9b",
   "metadata": {},
   "outputs": [],
   "source": [
    "anime = pd.read_csv('anime.csv')\n",
    "df = pd.read_csv('rating.csv')\n"
   ]
  },
  {
   "cell_type": "code",
   "execution_count": 3,
   "id": "c09222a5",
   "metadata": {},
   "outputs": [],
   "source": [
    "df = pd.merge(df,anime.drop('rating',axis=1),on='anime_id')"
   ]
  },
  {
   "cell_type": "code",
   "execution_count": 4,
   "id": "02616332",
   "metadata": {},
   "outputs": [
    {
     "data": {
      "text/html": [
       "<div>\n",
       "<style scoped>\n",
       "    .dataframe tbody tr th:only-of-type {\n",
       "        vertical-align: middle;\n",
       "    }\n",
       "\n",
       "    .dataframe tbody tr th {\n",
       "        vertical-align: top;\n",
       "    }\n",
       "\n",
       "    .dataframe thead th {\n",
       "        text-align: right;\n",
       "    }\n",
       "</style>\n",
       "<table border=\"1\" class=\"dataframe\">\n",
       "  <thead>\n",
       "    <tr style=\"text-align: right;\">\n",
       "      <th></th>\n",
       "      <th>user_id</th>\n",
       "      <th>anime_id</th>\n",
       "      <th>rating</th>\n",
       "      <th>name</th>\n",
       "      <th>genre</th>\n",
       "      <th>type</th>\n",
       "      <th>episodes</th>\n",
       "      <th>members</th>\n",
       "    </tr>\n",
       "  </thead>\n",
       "  <tbody>\n",
       "    <tr>\n",
       "      <th>0</th>\n",
       "      <td>1</td>\n",
       "      <td>20</td>\n",
       "      <td>-1</td>\n",
       "      <td>Naruto</td>\n",
       "      <td>Action, Comedy, Martial Arts, Shounen, Super P...</td>\n",
       "      <td>TV</td>\n",
       "      <td>220</td>\n",
       "      <td>683297</td>\n",
       "    </tr>\n",
       "    <tr>\n",
       "      <th>1</th>\n",
       "      <td>3</td>\n",
       "      <td>20</td>\n",
       "      <td>8</td>\n",
       "      <td>Naruto</td>\n",
       "      <td>Action, Comedy, Martial Arts, Shounen, Super P...</td>\n",
       "      <td>TV</td>\n",
       "      <td>220</td>\n",
       "      <td>683297</td>\n",
       "    </tr>\n",
       "    <tr>\n",
       "      <th>2</th>\n",
       "      <td>5</td>\n",
       "      <td>20</td>\n",
       "      <td>6</td>\n",
       "      <td>Naruto</td>\n",
       "      <td>Action, Comedy, Martial Arts, Shounen, Super P...</td>\n",
       "      <td>TV</td>\n",
       "      <td>220</td>\n",
       "      <td>683297</td>\n",
       "    </tr>\n",
       "    <tr>\n",
       "      <th>3</th>\n",
       "      <td>6</td>\n",
       "      <td>20</td>\n",
       "      <td>-1</td>\n",
       "      <td>Naruto</td>\n",
       "      <td>Action, Comedy, Martial Arts, Shounen, Super P...</td>\n",
       "      <td>TV</td>\n",
       "      <td>220</td>\n",
       "      <td>683297</td>\n",
       "    </tr>\n",
       "    <tr>\n",
       "      <th>4</th>\n",
       "      <td>10</td>\n",
       "      <td>20</td>\n",
       "      <td>-1</td>\n",
       "      <td>Naruto</td>\n",
       "      <td>Action, Comedy, Martial Arts, Shounen, Super P...</td>\n",
       "      <td>TV</td>\n",
       "      <td>220</td>\n",
       "      <td>683297</td>\n",
       "    </tr>\n",
       "  </tbody>\n",
       "</table>\n",
       "</div>"
      ],
      "text/plain": [
       "   user_id  anime_id  rating    name  \\\n",
       "0        1        20      -1  Naruto   \n",
       "1        3        20       8  Naruto   \n",
       "2        5        20       6  Naruto   \n",
       "3        6        20      -1  Naruto   \n",
       "4       10        20      -1  Naruto   \n",
       "\n",
       "                                               genre type episodes  members  \n",
       "0  Action, Comedy, Martial Arts, Shounen, Super P...   TV      220   683297  \n",
       "1  Action, Comedy, Martial Arts, Shounen, Super P...   TV      220   683297  \n",
       "2  Action, Comedy, Martial Arts, Shounen, Super P...   TV      220   683297  \n",
       "3  Action, Comedy, Martial Arts, Shounen, Super P...   TV      220   683297  \n",
       "4  Action, Comedy, Martial Arts, Shounen, Super P...   TV      220   683297  "
      ]
     },
     "execution_count": 4,
     "metadata": {},
     "output_type": "execute_result"
    }
   ],
   "source": [
    "df.head()"
   ]
  },
  {
   "cell_type": "code",
   "execution_count": 5,
   "id": "5670e3ef",
   "metadata": {},
   "outputs": [
    {
     "data": {
      "text/plain": [
       "name\n",
       "Choegang Top Plate                                                  10.000000\n",
       "STAR BEAT!: Hoshi no Kodou                                          10.000000\n",
       "Shiroi Zou                                                          10.000000\n",
       "Warui no wo Taose!! Salaryman Man                                   10.000000\n",
       "Yakushiji Ryouko no Kaiki Jikenbo: Hamachou, Voice &amp; Fiction     9.000000\n",
       "Tang Lang Bu Chan                                                    9.000000\n",
       "Shiranpuri                                                           9.000000\n",
       "Doukyuusei                                                           9.000000\n",
       "Steins;Gate 0                                                        8.500000\n",
       "Kimi no Na wa.                                                       8.297863\n",
       "Name: rating, dtype: float64"
      ]
     },
     "execution_count": 5,
     "metadata": {},
     "output_type": "execute_result"
    }
   ],
   "source": [
    "df.groupby('name')['rating'].mean().sort_values(ascending=False).head(10)"
   ]
  },
  {
   "cell_type": "markdown",
   "id": "7bc7401c",
   "metadata": {},
   "source": [
    "# popularity based"
   ]
  },
  {
   "cell_type": "code",
   "execution_count": 6,
   "id": "473bc379",
   "metadata": {},
   "outputs": [
    {
     "data": {
      "text/plain": [
       "name\n",
       "Death Note                          39340\n",
       "Sword Art Online                    30583\n",
       "Shingeki no Kyojin                  29584\n",
       "Code Geass: Hangyaku no Lelouch     27718\n",
       "Elfen Lied                          27506\n",
       "Angel Beats!                        27183\n",
       "Naruto                              25925\n",
       "Fullmetal Alchemist                 25032\n",
       "Fullmetal Alchemist: Brotherhood    24574\n",
       "Toradora!                           24283\n",
       "Name: rating, dtype: int64"
      ]
     },
     "execution_count": 6,
     "metadata": {},
     "output_type": "execute_result"
    }
   ],
   "source": [
    "df.groupby('name')['rating'].count().sort_values(ascending=False).head(10)"
   ]
  },
  {
   "cell_type": "code",
   "execution_count": 7,
   "id": "cd0fb91a",
   "metadata": {},
   "outputs": [],
   "source": [
    "ratings = pd.DataFrame(df.groupby('name')['rating'].mean())\n",
    "ratings['num of ratings'] = pd.DataFrame(df.groupby('name')['rating'].count())\n",
    "\n",
    "genre_dict = pd.DataFrame(data=anime[['name','genre']])\n",
    "genre_dict.set_index('name',inplace=True)"
   ]
  },
  {
   "cell_type": "code",
   "execution_count": 8,
   "id": "ee707fce",
   "metadata": {},
   "outputs": [
    {
     "data": {
      "text/html": [
       "<div>\n",
       "<style scoped>\n",
       "    .dataframe tbody tr th:only-of-type {\n",
       "        vertical-align: middle;\n",
       "    }\n",
       "\n",
       "    .dataframe tbody tr th {\n",
       "        vertical-align: top;\n",
       "    }\n",
       "\n",
       "    .dataframe thead th {\n",
       "        text-align: right;\n",
       "    }\n",
       "</style>\n",
       "<table border=\"1\" class=\"dataframe\">\n",
       "  <thead>\n",
       "    <tr style=\"text-align: right;\">\n",
       "      <th></th>\n",
       "      <th>rating</th>\n",
       "      <th>num of ratings</th>\n",
       "    </tr>\n",
       "    <tr>\n",
       "      <th>name</th>\n",
       "      <th></th>\n",
       "      <th></th>\n",
       "    </tr>\n",
       "  </thead>\n",
       "  <tbody>\n",
       "    <tr>\n",
       "      <th>&amp;quot;0&amp;quot;</th>\n",
       "      <td>2.769231</td>\n",
       "      <td>26</td>\n",
       "    </tr>\n",
       "    <tr>\n",
       "      <th>&amp;quot;Aesop&amp;quot; no Ohanashi yori: Ushi to Kaeru, Yokubatta Inu</th>\n",
       "      <td>0.000000</td>\n",
       "      <td>2</td>\n",
       "    </tr>\n",
       "    <tr>\n",
       "      <th>&amp;quot;Bungaku Shoujo&amp;quot; Kyou no Oyatsu: Hatsukoi</th>\n",
       "      <td>5.774936</td>\n",
       "      <td>782</td>\n",
       "    </tr>\n",
       "    <tr>\n",
       "      <th>&amp;quot;Bungaku Shoujo&amp;quot; Memoire</th>\n",
       "      <td>6.155748</td>\n",
       "      <td>809</td>\n",
       "    </tr>\n",
       "    <tr>\n",
       "      <th>&amp;quot;Bungaku Shoujo&amp;quot; Movie</th>\n",
       "      <td>6.457980</td>\n",
       "      <td>1535</td>\n",
       "    </tr>\n",
       "  </tbody>\n",
       "</table>\n",
       "</div>"
      ],
      "text/plain": [
       "                                                      rating  num of ratings\n",
       "name                                                                        \n",
       "&quot;0&quot;                                       2.769231              26\n",
       "&quot;Aesop&quot; no Ohanashi yori: Ushi to Kae...  0.000000               2\n",
       "&quot;Bungaku Shoujo&quot; Kyou no Oyatsu: Hats...  5.774936             782\n",
       "&quot;Bungaku Shoujo&quot; Memoire                  6.155748             809\n",
       "&quot;Bungaku Shoujo&quot; Movie                    6.457980            1535"
      ]
     },
     "execution_count": 8,
     "metadata": {},
     "output_type": "execute_result"
    }
   ],
   "source": [
    "ratings.head()"
   ]
  },
  {
   "cell_type": "code",
   "execution_count": 9,
   "id": "953ad4cc",
   "metadata": {},
   "outputs": [
    {
     "data": {
      "text/plain": [
       "(0.0, 3000.0)"
      ]
     },
     "execution_count": 9,
     "metadata": {},
     "output_type": "execute_result"
    },
    {
     "data": {
      "image/png": "[encoded data removed]",
      "text/plain": [
       "<Figure size 1080x360 with 1 Axes>"
      ]
     },
     "metadata": {
      "needs_background": "light"
     },
     "output_type": "display_data"
    }
   ],
   "source": [
    "plt.figure(figsize=(15,5))\n",
    "ratings['num of ratings'].hist(bins=300)\n",
    "plt.xlim(0,3000)"
   ]
  },
  {
   "cell_type": "code",
   "execution_count": 10,
   "id": "16ae875c",
   "metadata": {},
   "outputs": [
    {
     "data": {
      "text/plain": [
       "<AxesSubplot:>"
      ]
     },
     "execution_count": 10,
     "metadata": {},
     "output_type": "execute_result"
    },
    {
     "data": {
      "image/png": "[encoded data removed]",
      "text/plain": [
       "<Figure size 432x288 with 1 Axes>"
      ]
     },
     "metadata": {
      "needs_background": "light"
     },
     "output_type": "display_data"
    }
   ],
   "source": [
    "ratings['rating'].hist(bins=50)"
   ]
  },
  {
   "cell_type": "code",
   "execution_count": 11,
   "id": "e2c1c4c1",
   "metadata": {},
   "outputs": [
    {
     "data": {
      "text/plain": [
       "<seaborn.axisgrid.JointGrid at 0x13480ae5940>"
      ]
     },
     "execution_count": 11,
     "metadata": {},
     "output_type": "execute_result"
    },
    {
     "data": {
      "image/png": "[encoded data removed]",
      "text/plain": [
       "<Figure size 432x432 with 3 Axes>"
      ]
     },
     "metadata": {
      "needs_background": "light"
     },
     "output_type": "display_data"
    }
   ],
   "source": [
    "sns.jointplot(x='rating',y='num of ratings',data=ratings)"
   ]
  },
  {
   "cell_type": "markdown",
   "id": "0e396d9b",
   "metadata": {},
   "source": [
    "# genere based"
   ]
  },
  {
   "cell_type": "code",
   "execution_count": 12,
   "id": "3f7d0391",
   "metadata": {},
   "outputs": [],
   "source": [
    "def check_genre(genre_list,string):\n",
    "    if any(x in string for x in genre_list):\n",
    "        return True\n",
    "    else:\n",
    "        return False\n",
    "    \n",
    "def get_recommendation(name):\n",
    "    #generating list of anime with the same genre with target\n",
    "    anime_genre = genre_dict.loc[name].values[0].split(', ')\n",
    "    cols = anime[anime['genre'].apply(\n",
    "        lambda x: check_genre(anime_genre,str(x)))]['name'].tolist()\n",
    "    \n",
    "    #create matrix based on generated list\n",
    "    animemat = df[df['name'].isin(cols)].pivot_table(\n",
    "        index='user_id',columns='name',values='rating')\n",
    "       \n",
    "    #create correlation table\n",
    "    anime_user_rating = animemat[name]\n",
    "    similiar_anime = animemat.corrwith(anime_user_rating)\n",
    "    corr_anime = pd.DataFrame(similiar_anime,columns=['correlation'])\n",
    "    corr_anime = corr_anime.join(ratings['num of ratings'])\n",
    "    corr_anime.dropna(inplace=True)\n",
    "    corr_anime = corr_anime[corr_anime['num of ratings']>5000].sort_values(\n",
    "        'correlation',ascending=False)\n",
    "\n",
    "    return corr_anime.head(10)\n"
   ]
  },
  {
   "cell_type": "code",
   "execution_count": 13,
   "id": "f7a2c61b",
   "metadata": {},
   "outputs": [
    {
     "name": "stderr",
     "output_type": "stream",
     "text": [
      "C:\\Users\\ACER\\anaconda3\\lib\\site-packages\\numpy\\lib\\function_base.py:2683: RuntimeWarning: Degrees of freedom <= 0 for slice\n",
      "  c = cov(x, y, rowvar, dtype=dtype)\n",
      "C:\\Users\\ACER\\anaconda3\\lib\\site-packages\\numpy\\lib\\function_base.py:2542: RuntimeWarning: divide by zero encountered in true_divide\n",
      "  c *= np.true_divide(1, fact)\n"
     ]
    },
    {
     "data": {
      "text/html": [
       "<div>\n",
       "<style scoped>\n",
       "    .dataframe tbody tr th:only-of-type {\n",
       "        vertical-align: middle;\n",
       "    }\n",
       "\n",
       "    .dataframe tbody tr th {\n",
       "        vertical-align: top;\n",
       "    }\n",
       "\n",
       "    .dataframe thead th {\n",
       "        text-align: right;\n",
       "    }\n",
       "</style>\n",
       "<table border=\"1\" class=\"dataframe\">\n",
       "  <thead>\n",
       "    <tr style=\"text-align: right;\">\n",
       "      <th></th>\n",
       "      <th>correlation</th>\n",
       "      <th>num of ratings</th>\n",
       "    </tr>\n",
       "    <tr>\n",
       "      <th>name</th>\n",
       "      <th></th>\n",
       "      <th></th>\n",
       "    </tr>\n",
       "  </thead>\n",
       "  <tbody>\n",
       "    <tr>\n",
       "      <th>Shingeki no Kyojin</th>\n",
       "      <td>1.000000</td>\n",
       "      <td>29584</td>\n",
       "    </tr>\n",
       "    <tr>\n",
       "      <th>Suisei no Gargantia</th>\n",
       "      <td>0.752774</td>\n",
       "      <td>6371</td>\n",
       "    </tr>\n",
       "    <tr>\n",
       "      <th>Kami nomi zo Shiru Sekai: Megami-hen</th>\n",
       "      <td>0.750020</td>\n",
       "      <td>5733</td>\n",
       "    </tr>\n",
       "    <tr>\n",
       "      <th>Blood Lad</th>\n",
       "      <td>0.741779</td>\n",
       "      <td>8507</td>\n",
       "    </tr>\n",
       "    <tr>\n",
       "      <th>Hitsugi no Chaika</th>\n",
       "      <td>0.736769</td>\n",
       "      <td>5168</td>\n",
       "    </tr>\n",
       "    <tr>\n",
       "      <th>Maoyuu Maou Yuusha</th>\n",
       "      <td>0.732879</td>\n",
       "      <td>5693</td>\n",
       "    </tr>\n",
       "    <tr>\n",
       "      <th>Danganronpa: Kibou no Gakuen to Zetsubou no Koukousei The Animation</th>\n",
       "      <td>0.728270</td>\n",
       "      <td>10082</td>\n",
       "    </tr>\n",
       "    <tr>\n",
       "      <th>Magi: The Labyrinth of Magic</th>\n",
       "      <td>0.726442</td>\n",
       "      <td>9907</td>\n",
       "    </tr>\n",
       "    <tr>\n",
       "      <th>Psycho-Pass</th>\n",
       "      <td>0.726120</td>\n",
       "      <td>14008</td>\n",
       "    </tr>\n",
       "    <tr>\n",
       "      <th>Magi: The Kingdom of Magic</th>\n",
       "      <td>0.725571</td>\n",
       "      <td>7279</td>\n",
       "    </tr>\n",
       "  </tbody>\n",
       "</table>\n",
       "</div>"
      ],
      "text/plain": [
       "                                                    correlation  \\\n",
       "name                                                              \n",
       "Shingeki no Kyojin                                     1.000000   \n",
       "Suisei no Gargantia                                    0.752774   \n",
       "Kami nomi zo Shiru Sekai: Megami-hen                   0.750020   \n",
       "Blood Lad                                              0.741779   \n",
       "Hitsugi no Chaika                                      0.736769   \n",
       "Maoyuu Maou Yuusha                                     0.732879   \n",
       "Danganronpa: Kibou no Gakuen to Zetsubou no Kou...     0.728270   \n",
       "Magi: The Labyrinth of Magic                           0.726442   \n",
       "Psycho-Pass                                            0.726120   \n",
       "Magi: The Kingdom of Magic                             0.725571   \n",
       "\n",
       "                                                    num of ratings  \n",
       "name                                                                \n",
       "Shingeki no Kyojin                                           29584  \n",
       "Suisei no Gargantia                                           6371  \n",
       "Kami nomi zo Shiru Sekai: Megami-hen                          5733  \n",
       "Blood Lad                                                     8507  \n",
       "Hitsugi no Chaika                                             5168  \n",
       "Maoyuu Maou Yuusha                                            5693  \n",
       "Danganronpa: Kibou no Gakuen to Zetsubou no Kou...           10082  \n",
       "Magi: The Labyrinth of Magic                                  9907  \n",
       "Psycho-Pass                                                  14008  \n",
       "Magi: The Kingdom of Magic                                    7279  "
      ]
     },
     "execution_count": 13,
     "metadata": {},
     "output_type": "execute_result"
    }
   ],
   "source": [
    "get_recommendation('Shingeki no Kyojin')"
   ]
  },
  {
   "cell_type": "code",
   "execution_count": 14,
   "id": "1367a1ac",
   "metadata": {},
   "outputs": [
    {
     "name": "stderr",
     "output_type": "stream",
     "text": [
      "C:\\Users\\ACER\\anaconda3\\lib\\site-packages\\numpy\\lib\\function_base.py:2683: RuntimeWarning: Degrees of freedom <= 0 for slice\n",
      "  c = cov(x, y, rowvar, dtype=dtype)\n",
      "C:\\Users\\ACER\\anaconda3\\lib\\site-packages\\numpy\\lib\\function_base.py:2542: RuntimeWarning: divide by zero encountered in true_divide\n",
      "  c *= np.true_divide(1, fact)\n"
     ]
    },
    {
     "data": {
      "text/html": [
       "<div>\n",
       "<style scoped>\n",
       "    .dataframe tbody tr th:only-of-type {\n",
       "        vertical-align: middle;\n",
       "    }\n",
       "\n",
       "    .dataframe tbody tr th {\n",
       "        vertical-align: top;\n",
       "    }\n",
       "\n",
       "    .dataframe thead th {\n",
       "        text-align: right;\n",
       "    }\n",
       "</style>\n",
       "<table border=\"1\" class=\"dataframe\">\n",
       "  <thead>\n",
       "    <tr style=\"text-align: right;\">\n",
       "      <th></th>\n",
       "      <th>correlation</th>\n",
       "      <th>num of ratings</th>\n",
       "    </tr>\n",
       "    <tr>\n",
       "      <th>name</th>\n",
       "      <th></th>\n",
       "      <th></th>\n",
       "    </tr>\n",
       "  </thead>\n",
       "  <tbody>\n",
       "    <tr>\n",
       "      <th>Naruto</th>\n",
       "      <td>1.000000</td>\n",
       "      <td>25925</td>\n",
       "    </tr>\n",
       "    <tr>\n",
       "      <th>Bleach</th>\n",
       "      <td>0.720531</td>\n",
       "      <td>12845</td>\n",
       "    </tr>\n",
       "    <tr>\n",
       "      <th>InuYasha</th>\n",
       "      <td>0.704638</td>\n",
       "      <td>9328</td>\n",
       "    </tr>\n",
       "    <tr>\n",
       "      <th>Shaman King</th>\n",
       "      <td>0.696407</td>\n",
       "      <td>7814</td>\n",
       "    </tr>\n",
       "    <tr>\n",
       "      <th>Katekyo Hitman Reborn!</th>\n",
       "      <td>0.694202</td>\n",
       "      <td>6739</td>\n",
       "    </tr>\n",
       "    <tr>\n",
       "      <th>Tenjou Tenge</th>\n",
       "      <td>0.691476</td>\n",
       "      <td>5150</td>\n",
       "    </tr>\n",
       "    <tr>\n",
       "      <th>Sekirei</th>\n",
       "      <td>0.691413</td>\n",
       "      <td>7924</td>\n",
       "    </tr>\n",
       "    <tr>\n",
       "      <th>Rurouni Kenshin: Meiji Kenkaku Romantan</th>\n",
       "      <td>0.690855</td>\n",
       "      <td>7900</td>\n",
       "    </tr>\n",
       "    <tr>\n",
       "      <th>Shijou Saikyou no Deshi Kenichi</th>\n",
       "      <td>0.690250</td>\n",
       "      <td>5654</td>\n",
       "    </tr>\n",
       "    <tr>\n",
       "      <th>Tsubasa Chronicle</th>\n",
       "      <td>0.688495</td>\n",
       "      <td>5465</td>\n",
       "    </tr>\n",
       "  </tbody>\n",
       "</table>\n",
       "</div>"
      ],
      "text/plain": [
       "                                         correlation  num of ratings\n",
       "name                                                                \n",
       "Naruto                                      1.000000           25925\n",
       "Bleach                                      0.720531           12845\n",
       "InuYasha                                    0.704638            9328\n",
       "Shaman King                                 0.696407            7814\n",
       "Katekyo Hitman Reborn!                      0.694202            6739\n",
       "Tenjou Tenge                                0.691476            5150\n",
       "Sekirei                                     0.691413            7924\n",
       "Rurouni Kenshin: Meiji Kenkaku Romantan     0.690855            7900\n",
       "Shijou Saikyou no Deshi Kenichi             0.690250            5654\n",
       "Tsubasa Chronicle                           0.688495            5465"
      ]
     },
     "execution_count": 14,
     "metadata": {},
     "output_type": "execute_result"
    }
   ],
   "source": [
    "get_recommendation('Naruto')"
   ]
  },
  {
   "cell_type": "code",
   "execution_count": 19,
   "id": "0a595b7f",
   "metadata": {},
   "outputs": [
    {
     "name": "stderr",
     "output_type": "stream",
     "text": [
      "C:\\Users\\ACER\\anaconda3\\lib\\site-packages\\numpy\\lib\\function_base.py:2683: RuntimeWarning: Degrees of freedom <= 0 for slice\n",
      "  c = cov(x, y, rowvar, dtype=dtype)\n",
      "C:\\Users\\ACER\\anaconda3\\lib\\site-packages\\numpy\\lib\\function_base.py:2542: RuntimeWarning: divide by zero encountered in true_divide\n",
      "  c *= np.true_divide(1, fact)\n"
     ]
    },
    {
     "data": {
      "text/html": [
       "<div>\n",
       "<style scoped>\n",
       "    .dataframe tbody tr th:only-of-type {\n",
       "        vertical-align: middle;\n",
       "    }\n",
       "\n",
       "    .dataframe tbody tr th {\n",
       "        vertical-align: top;\n",
       "    }\n",
       "\n",
       "    .dataframe thead th {\n",
       "        text-align: right;\n",
       "    }\n",
       "</style>\n",
       "<table border=\"1\" class=\"dataframe\">\n",
       "  <thead>\n",
       "    <tr style=\"text-align: right;\">\n",
       "      <th></th>\n",
       "      <th>correlation</th>\n",
       "      <th>num of ratings</th>\n",
       "    </tr>\n",
       "    <tr>\n",
       "      <th>name</th>\n",
       "      <th></th>\n",
       "      <th></th>\n",
       "    </tr>\n",
       "  </thead>\n",
       "  <tbody>\n",
       "    <tr>\n",
       "      <th>Sword Art Online</th>\n",
       "      <td>1.000000</td>\n",
       "      <td>30583</td>\n",
       "    </tr>\n",
       "    <tr>\n",
       "      <th>Sword Art Online II</th>\n",
       "      <td>0.761722</td>\n",
       "      <td>13814</td>\n",
       "    </tr>\n",
       "    <tr>\n",
       "      <th>Zero no Tsukaima F</th>\n",
       "      <td>0.727705</td>\n",
       "      <td>7255</td>\n",
       "    </tr>\n",
       "    <tr>\n",
       "      <th>Btooom!</th>\n",
       "      <td>0.726417</td>\n",
       "      <td>12082</td>\n",
       "    </tr>\n",
       "    <tr>\n",
       "      <th>Accel World</th>\n",
       "      <td>0.726244</td>\n",
       "      <td>10722</td>\n",
       "    </tr>\n",
       "    <tr>\n",
       "      <th>Ore no Kanojo to Osananajimi ga Shuraba Sugiru</th>\n",
       "      <td>0.722594</td>\n",
       "      <td>5510</td>\n",
       "    </tr>\n",
       "    <tr>\n",
       "      <th>Guilty Crown</th>\n",
       "      <td>0.721473</td>\n",
       "      <td>14568</td>\n",
       "    </tr>\n",
       "    <tr>\n",
       "      <th>Mirai Nikki (TV)</th>\n",
       "      <td>0.716926</td>\n",
       "      <td>21826</td>\n",
       "    </tr>\n",
       "    <tr>\n",
       "      <th>Campione!: Matsurowanu Kamigami to Kamigoroshi no Maou</th>\n",
       "      <td>0.715165</td>\n",
       "      <td>5786</td>\n",
       "    </tr>\n",
       "    <tr>\n",
       "      <th>Sankarea</th>\n",
       "      <td>0.713044</td>\n",
       "      <td>8693</td>\n",
       "    </tr>\n",
       "  </tbody>\n",
       "</table>\n",
       "</div>"
      ],
      "text/plain": [
       "                                                    correlation  \\\n",
       "name                                                              \n",
       "Sword Art Online                                       1.000000   \n",
       "Sword Art Online II                                    0.761722   \n",
       "Zero no Tsukaima F                                     0.727705   \n",
       "Btooom!                                                0.726417   \n",
       "Accel World                                            0.726244   \n",
       "Ore no Kanojo to Osananajimi ga Shuraba Sugiru         0.722594   \n",
       "Guilty Crown                                           0.721473   \n",
       "Mirai Nikki (TV)                                       0.716926   \n",
       "Campione!: Matsurowanu Kamigami to Kamigoroshi ...     0.715165   \n",
       "Sankarea                                               0.713044   \n",
       "\n",
       "                                                    num of ratings  \n",
       "name                                                                \n",
       "Sword Art Online                                             30583  \n",
       "Sword Art Online II                                          13814  \n",
       "Zero no Tsukaima F                                            7255  \n",
       "Btooom!                                                      12082  \n",
       "Accel World                                                  10722  \n",
       "Ore no Kanojo to Osananajimi ga Shuraba Sugiru                5510  \n",
       "Guilty Crown                                                 14568  \n",
       "Mirai Nikki (TV)                                             21826  \n",
       "Campione!: Matsurowanu Kamigami to Kamigoroshi ...            5786  \n",
       "Sankarea                                                      8693  "
      ]
     },
     "execution_count": 19,
     "metadata": {},
     "output_type": "execute_result"
    }
   ],
   "source": [
    "get_recommendation('Sword Art Online')"
   ]
  },
  {
   "cell_type": "code",
   "execution_count": null,
   "id": "6f14b705",
   "metadata": {},
   "outputs": [],
   "source": []
  }
 ],
 "metadata": {
  "kernelspec": {
   "display_name": "Python 3 (ipykernel)",
   "language": "python",
   "name": "python3"
  },
  "language_info": {
   "codemirror_mode": {
    "name": "ipython",
    "version": 3
   },
   "file_extension": ".py",
   "mimetype": "text/x-python",
   "name": "python",
   "nbconvert_exporter": "python",
   "pygments_lexer": "ipython3",
   "version": "3.9.12"
  }
 },
 "nbformat": 4,
 "nbformat_minor": 5
}
